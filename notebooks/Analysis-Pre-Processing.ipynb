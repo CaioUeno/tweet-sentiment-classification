{
 "cells": [
  {
   "cell_type": "code",
   "execution_count": 1,
   "id": "rental-drain",
   "metadata": {},
   "outputs": [],
   "source": [
    "import pandas as pd\n",
    "import re"
   ]
  },
  {
   "cell_type": "code",
   "execution_count": null,
   "id": "scientific-terry",
   "metadata": {},
   "outputs": [],
   "source": []
  },
  {
   "cell_type": "code",
   "execution_count": 2,
   "id": "divided-output",
   "metadata": {},
   "outputs": [],
   "source": [
    "# read 500K tweets 50/50 positive-negative (most to speed up training)\n",
    "tweets = pd.read_csv(\"../data/tweets.csv\", header=None).groupby(0).sample(250000, random_state=1)\n",
    "tweets.rename(columns={0:\"sentiment\", 1:\"id\", 2:\"date\", 4:\"user\", 5:\"tweet\"}, inplace=True)\n",
    "tweets.drop(3, axis=1, inplace=True)"
   ]
  },
  {
   "cell_type": "code",
   "execution_count": 3,
   "id": "visible-perspective",
   "metadata": {},
   "outputs": [
    {
     "data": {
      "text/html": [
       "<div>\n",
       "<style scoped>\n",
       "    .dataframe tbody tr th:only-of-type {\n",
       "        vertical-align: middle;\n",
       "    }\n",
       "\n",
       "    .dataframe tbody tr th {\n",
       "        vertical-align: top;\n",
       "    }\n",
       "\n",
       "    .dataframe thead th {\n",
       "        text-align: right;\n",
       "    }\n",
       "</style>\n",
       "<table border=\"1\" class=\"dataframe\">\n",
       "  <thead>\n",
       "    <tr style=\"text-align: right;\">\n",
       "      <th></th>\n",
       "      <th>sentiment</th>\n",
       "      <th>id</th>\n",
       "      <th>date</th>\n",
       "      <th>user</th>\n",
       "      <th>tweet</th>\n",
       "    </tr>\n",
       "  </thead>\n",
       "  <tbody>\n",
       "    <tr>\n",
       "      <th>670935</th>\n",
       "      <td>0</td>\n",
       "      <td>2246713398</td>\n",
       "      <td>Fri Jun 19 18:00:49 PDT 2009</td>\n",
       "      <td>Mickie_1</td>\n",
       "      <td>@TheRealScarab PA system bugs are a bummer, sorry.</td>\n",
       "    </tr>\n",
       "    <tr>\n",
       "      <th>649589</th>\n",
       "      <td>0</td>\n",
       "      <td>2237331866</td>\n",
       "      <td>Fri Jun 19 05:36:56 PDT 2009</td>\n",
       "      <td>supaflya</td>\n",
       "      <td>oh daaamnnn! the firemen ball's on the 14th and i'll still be in Cannes  So many handsome men united 2gether, and i miss it! *out tonite*</td>\n",
       "    </tr>\n",
       "    <tr>\n",
       "      <th>2028</th>\n",
       "      <td>0</td>\n",
       "      <td>1468288564</td>\n",
       "      <td>Tue Apr 07 00:46:03 PDT 2009</td>\n",
       "      <td>in_wonderland</td>\n",
       "      <td>I don't want to be cold in April, but I am</td>\n",
       "    </tr>\n",
       "    <tr>\n",
       "      <th>669856</th>\n",
       "      <td>0</td>\n",
       "      <td>2246385590</td>\n",
       "      <td>Fri Jun 19 17:31:05 PDT 2009</td>\n",
       "      <td>Jessimikaaaa</td>\n",
       "      <td>@JaredOngie haha its too cold down here  bt other than that im quite fine.. jst extremely bored  wht are your plans for the day?</td>\n",
       "    </tr>\n",
       "    <tr>\n",
       "      <th>458897</th>\n",
       "      <td>0</td>\n",
       "      <td>2072038618</td>\n",
       "      <td>Sun Jun 07 20:17:45 PDT 2009</td>\n",
       "      <td>MacAddict0915</td>\n",
       "      <td>Upset I can't find my CHI!</td>\n",
       "    </tr>\n",
       "  </tbody>\n",
       "</table>\n",
       "</div>"
      ],
      "text/plain": [
       "        sentiment          id                          date           user  \\\n",
       "670935          0  2246713398  Fri Jun 19 18:00:49 PDT 2009       Mickie_1   \n",
       "649589          0  2237331866  Fri Jun 19 05:36:56 PDT 2009       supaflya   \n",
       "2028            0  1468288564  Tue Apr 07 00:46:03 PDT 2009  in_wonderland   \n",
       "669856          0  2246385590  Fri Jun 19 17:31:05 PDT 2009   Jessimikaaaa   \n",
       "458897          0  2072038618  Sun Jun 07 20:17:45 PDT 2009  MacAddict0915   \n",
       "\n",
       "                                                                                                                                            tweet  \n",
       "670935                                                                                       @TheRealScarab PA system bugs are a bummer, sorry.    \n",
       "649589  oh daaamnnn! the firemen ball's on the 14th and i'll still be in Cannes  So many handsome men united 2gether, and i miss it! *out tonite*  \n",
       "2028                                                                                                  I don't want to be cold in April, but I am   \n",
       "669856           @JaredOngie haha its too cold down here  bt other than that im quite fine.. jst extremely bored  wht are your plans for the day?  \n",
       "458897                                                                                                                Upset I can't find my CHI!   "
      ]
     },
     "execution_count": 3,
     "metadata": {},
     "output_type": "execute_result"
    }
   ],
   "source": [
    "pd.set_option(\"display.max_colwidth\", 1000)\n",
    "tweets.head()"
   ]
  },
  {
   "cell_type": "code",
   "execution_count": 4,
   "id": "light-gambling",
   "metadata": {},
   "outputs": [
    {
     "data": {
      "text/plain": [
       "0    250000\n",
       "4    250000\n",
       "Name: sentiment, dtype: int64"
      ]
     },
     "execution_count": 4,
     "metadata": {},
     "output_type": "execute_result"
    }
   ],
   "source": [
    "tweets[\"sentiment\"].value_counts()"
   ]
  },
  {
   "cell_type": "markdown",
   "id": "accepting-rocket",
   "metadata": {},
   "source": [
    "---\n",
    "# Pre-Processing"
   ]
  },
  {
   "cell_type": "code",
   "execution_count": 5,
   "id": "polish-parameter",
   "metadata": {},
   "outputs": [],
   "source": [
    "def remove_usernames(tweet):\n",
    "    return re.sub(\"@[a-zA-Z0-9]+\\s+\", \"\", tweet)\n",
    "\n",
    "def remove_whitespaces(tweet):\n",
    "    return re.sub(\"\\s+\", \" \", tweet)\n",
    "\n",
    "def remove_links(tweet):\n",
    "    return re.sub(\"http\\S+\", \"\", tweet)\n",
    "\n",
    "def remove_specific_patterns(tweet):\n",
    "    return re.sub(\"[^a-zA-Z0-9\\'\\.!%#?\\s]\", \"\", tweet)\n",
    "\n",
    "def cleaning_tweet(tweet):\n",
    "    return remove_whitespaces(remove_specific_patterns(remove_links(remove_usernames(tweet))))"
   ]
  },
  {
   "cell_type": "code",
   "execution_count": 6,
   "id": "olympic-format",
   "metadata": {},
   "outputs": [],
   "source": [
    "tweets[\"tweet\"] = tweets[\"tweet\"].apply(cleaning_tweet).str.lower()\n",
    "tweets[\"sentiment\"] = tweets[\"sentiment\"].map({0:0, 4:1})"
   ]
  },
  {
   "cell_type": "code",
   "execution_count": 7,
   "id": "associate-teach",
   "metadata": {},
   "outputs": [
    {
     "data": {
      "text/html": [
       "<div>\n",
       "<style scoped>\n",
       "    .dataframe tbody tr th:only-of-type {\n",
       "        vertical-align: middle;\n",
       "    }\n",
       "\n",
       "    .dataframe tbody tr th {\n",
       "        vertical-align: top;\n",
       "    }\n",
       "\n",
       "    .dataframe thead th {\n",
       "        text-align: right;\n",
       "    }\n",
       "</style>\n",
       "<table border=\"1\" class=\"dataframe\">\n",
       "  <thead>\n",
       "    <tr style=\"text-align: right;\">\n",
       "      <th></th>\n",
       "      <th>sentiment</th>\n",
       "      <th>id</th>\n",
       "      <th>date</th>\n",
       "      <th>user</th>\n",
       "      <th>tweet</th>\n",
       "    </tr>\n",
       "  </thead>\n",
       "  <tbody>\n",
       "    <tr>\n",
       "      <th>670935</th>\n",
       "      <td>0</td>\n",
       "      <td>2246713398</td>\n",
       "      <td>Fri Jun 19 18:00:49 PDT 2009</td>\n",
       "      <td>Mickie_1</td>\n",
       "      <td>pa system bugs are a bummer sorry.</td>\n",
       "    </tr>\n",
       "    <tr>\n",
       "      <th>649589</th>\n",
       "      <td>0</td>\n",
       "      <td>2237331866</td>\n",
       "      <td>Fri Jun 19 05:36:56 PDT 2009</td>\n",
       "      <td>supaflya</td>\n",
       "      <td>oh daaamnnn! the firemen ball's on the 14th and i'll still be in cannes so many handsome men united 2gether and i miss it! out tonite</td>\n",
       "    </tr>\n",
       "    <tr>\n",
       "      <th>2028</th>\n",
       "      <td>0</td>\n",
       "      <td>1468288564</td>\n",
       "      <td>Tue Apr 07 00:46:03 PDT 2009</td>\n",
       "      <td>in_wonderland</td>\n",
       "      <td>i don't want to be cold in april but i am</td>\n",
       "    </tr>\n",
       "    <tr>\n",
       "      <th>669856</th>\n",
       "      <td>0</td>\n",
       "      <td>2246385590</td>\n",
       "      <td>Fri Jun 19 17:31:05 PDT 2009</td>\n",
       "      <td>Jessimikaaaa</td>\n",
       "      <td>haha its too cold down here bt other than that im quite fine.. jst extremely bored wht are your plans for the day?</td>\n",
       "    </tr>\n",
       "    <tr>\n",
       "      <th>458897</th>\n",
       "      <td>0</td>\n",
       "      <td>2072038618</td>\n",
       "      <td>Sun Jun 07 20:17:45 PDT 2009</td>\n",
       "      <td>MacAddict0915</td>\n",
       "      <td>upset i can't find my chi!</td>\n",
       "    </tr>\n",
       "  </tbody>\n",
       "</table>\n",
       "</div>"
      ],
      "text/plain": [
       "        sentiment          id                          date           user  \\\n",
       "670935          0  2246713398  Fri Jun 19 18:00:49 PDT 2009       Mickie_1   \n",
       "649589          0  2237331866  Fri Jun 19 05:36:56 PDT 2009       supaflya   \n",
       "2028            0  1468288564  Tue Apr 07 00:46:03 PDT 2009  in_wonderland   \n",
       "669856          0  2246385590  Fri Jun 19 17:31:05 PDT 2009   Jessimikaaaa   \n",
       "458897          0  2072038618  Sun Jun 07 20:17:45 PDT 2009  MacAddict0915   \n",
       "\n",
       "                                                                                                                                        tweet  \n",
       "670935                                                                                                    pa system bugs are a bummer sorry.   \n",
       "649589  oh daaamnnn! the firemen ball's on the 14th and i'll still be in cannes so many handsome men united 2gether and i miss it! out tonite  \n",
       "2028                                                                                               i don't want to be cold in april but i am   \n",
       "669856                     haha its too cold down here bt other than that im quite fine.. jst extremely bored wht are your plans for the day?  \n",
       "458897                                                                                                            upset i can't find my chi!   "
      ]
     },
     "execution_count": 7,
     "metadata": {},
     "output_type": "execute_result"
    }
   ],
   "source": [
    "tweets.head()"
   ]
  },
  {
   "cell_type": "code",
   "execution_count": 8,
   "id": "complimentary-power",
   "metadata": {},
   "outputs": [
    {
     "name": "stdout",
     "output_type": "stream",
     "text": [
      "Unique tokens: 317598\n"
     ]
    }
   ],
   "source": [
    "print(f\"Unique tokens: {len(set(' '.join(tweets['tweet'].tolist()).split()))}\")"
   ]
  },
  {
   "cell_type": "code",
   "execution_count": 9,
   "id": "mature-extreme",
   "metadata": {},
   "outputs": [
    {
     "name": "stdout",
     "output_type": "stream",
     "text": [
      "Longest tweet: 58 words\n",
      "Mean words per tweet: 12.607194\n",
      "Median words per tweet: 12.0\n"
     ]
    }
   ],
   "source": [
    "print(f\"Longest tweet: {tweets['tweet'].apply(lambda x: len(x.split())).max()} words\")\n",
    "print(f\"Mean words per tweet: {tweets['tweet'].apply(lambda x: len(x.split())).mean()}\")\n",
    "print(f\"Median words per tweet: {tweets['tweet'].apply(lambda x: len(x.split())).median()}\")"
   ]
  },
  {
   "cell_type": "code",
   "execution_count": 10,
   "id": "suspected-research",
   "metadata": {},
   "outputs": [],
   "source": [
    "tweets.to_parquet(\"../data/pre-processed-tweets.parquet\")"
   ]
  }
 ],
 "metadata": {
  "kernelspec": {
   "display_name": "Python 3.8.5 64-bit ('.venv')",
   "language": "python",
   "name": "python38564bitvenv6365982d7ad444efb65710e9a2abdcbd"
  },
  "language_info": {
   "codemirror_mode": {
    "name": "ipython",
    "version": 3
   },
   "file_extension": ".py",
   "mimetype": "text/x-python",
   "name": "python",
   "nbconvert_exporter": "python",
   "pygments_lexer": "ipython3",
   "version": "3.8.5"
  }
 },
 "nbformat": 4,
 "nbformat_minor": 5
}
