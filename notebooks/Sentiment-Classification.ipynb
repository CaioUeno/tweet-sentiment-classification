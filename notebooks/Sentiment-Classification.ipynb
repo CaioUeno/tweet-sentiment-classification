{
 "cells": [
  {
   "cell_type": "code",
   "execution_count": null,
   "metadata": {
    "id": "yflW5h3FDdWs"
   },
   "outputs": [],
   "source": [
    "%%capture\n",
    "!pip install sklearn pandas numpu tensorflow\n",
    "!pip install -q tensorflow-text\n",
    "!pip install -q tf-models-official\n",
    "!pip install sentence-transformers"
   ]
  },
  {
   "cell_type": "code",
   "execution_count": null,
   "metadata": {
    "colab": {
     "base_uri": "https://localhost:8080/"
    },
    "id": "XYLhWSeVFg2d",
    "outputId": "b319183b-2ef6-4313-9874-30729f127044"
   },
   "outputs": [
    {
     "data": {
      "text/plain": [
       "<tensorflow.python.eager.context._EagerDeviceContext at 0x7fc591e532d0>"
      ]
     },
     "execution_count": 2,
     "metadata": {
      "tags": []
     },
     "output_type": "execute_result"
    }
   ],
   "source": [
    "import tensorflow as tf\n",
    "tf.device('/device:GPU:0')"
   ]
  },
  {
   "cell_type": "markdown",
   "metadata": {
    "id": "RfPioTLkmm3u"
   },
   "source": [
    "## Embedding Layer from scratch"
   ]
  },
  {
   "cell_type": "code",
   "execution_count": null,
   "metadata": {
    "colab": {
     "base_uri": "https://localhost:8080/"
    },
    "id": "MV1HcofRDU4B",
    "outputId": "b020be6f-df45-4621-f925-0dbd0af5ecac"
   },
   "outputs": [
    {
     "name": "stdout",
     "output_type": "stream",
     "text": [
      "Epoch 1/3\n",
      "5625/5625 [==============================] - 1142s 197ms/step - loss: 0.4768 - accuracy: 0.7696 - val_loss: 0.4119 - val_accuracy: 0.8128\n",
      "Epoch 2/3\n",
      "5625/5625 [==============================] - 1099s 195ms/step - loss: 0.3351 - accuracy: 0.8536 - val_loss: 0.4241 - val_accuracy: 0.8084\n",
      "Epoch 3/3\n",
      "5625/5625 [==============================] - 1090s 194ms/step - loss: 0.2388 - accuracy: 0.9007 - val_loss: 0.5015 - val_accuracy: 0.7943\n"
     ]
    }
   ],
   "source": [
    "import pandas as pd\n",
    "import numpy as np\n",
    "import matplotlib.pyplot as plt\n",
    "\n",
    "from sklearn.model_selection import train_test_split\n",
    "from sklearn.metrics import classification_report, accuracy_score\n",
    "\n",
    "from tensorflow.keras.layers.experimental.preprocessing import TextVectorization\n",
    "from tensorflow.keras import Sequential\n",
    "from tensorflow.keras.layers import (\n",
    "    Input,\n",
    "    Embedding,\n",
    "    Bidirectional,\n",
    "    LSTM,\n",
    "    Dense,\n",
    "    Dropout,\n",
    ")\n",
    "\n",
    "# read dataset\n",
    "data = pd.read_parquet(\"drive/MyDrive/colab-data/pre-processed-tweets.parquet\")\n",
    "\n",
    "# tweet is the input and sentiment is the target\n",
    "X = np.array(data[\"tweet\"].tolist())\n",
    "y = np.array(data[\"sentiment\"].tolist())\n",
    "\n",
    "# split into train and test\n",
    "X_train, X_test, y_train, y_test = train_test_split(\n",
    "    X, y, test_size=0.2, random_state=11\n",
    ")\n",
    "\n",
    "# constants definition\n",
    "VOCAB_SIZE = 300000\n",
    "MAX_LENGTH = 64\n",
    "EMBEDDING_SIZE = 100\n",
    "\n",
    "# layer to encode text\n",
    "encoder = TextVectorization(max_tokens=VOCAB_SIZE, output_sequence_length=MAX_LENGTH)\n",
    "encoder.adapt(X_train)\n",
    "\n",
    "model = Sequential(\n",
    "    [\n",
    "        encoder,\n",
    "        Embedding(\n",
    "            input_dim=len(encoder.get_vocabulary()),\n",
    "            output_dim=EMBEDDING_SIZE,\n",
    "            mask_zero=True,\n",
    "        ),\n",
    "        Bidirectional(LSTM(EMBEDDING_SIZE)),\n",
    "        Dense(MAX_LENGTH, activation=\"relu\"),\n",
    "        Dropout(0.2),\n",
    "        Dense(1, activation=\"sigmoid\"),\n",
    "    ]\n",
    ")\n",
    "\n",
    "model.compile(loss=\"binary_crossentropy\", optimizer=\"adam\", metrics=[\"accuracy\"])\n",
    "\n",
    "# fit model and predict test set\n",
    "model.fit(X_train, y_train, validation_split=0.1, batch_size=64, epochs=3)\n",
    "y_pred = model.predict(X_test)"
   ]
  },
  {
   "cell_type": "markdown",
   "metadata": {
    "id": "qQpSe9eVmDLp"
   },
   "source": [
    "#### Threshold analysis"
   ]
  },
  {
   "cell_type": "code",
   "execution_count": null,
   "metadata": {
    "id": "qd5I1Cvwi-sQ"
   },
   "outputs": [],
   "source": [
    "# brute force to find best threshold\n",
    "accuracies = []\n",
    "thresholds = np.arange(0, 1.01, .01)\n",
    "\n",
    "for threshold in thresholds:\n",
    "    y_pred_copy = y_pred.copy()\n",
    "    y_pred_copy[y_pred_copy >= threshold] = 1\n",
    "    y_pred_copy[y_pred_copy < threshold] = 0\n",
    "    \n",
    "    accuracies.append(accuracy_score(y_test, y_pred_copy))"
   ]
  },
  {
   "cell_type": "code",
   "execution_count": null,
   "metadata": {
    "colab": {
     "base_uri": "https://localhost:8080/",
     "height": 519
    },
    "id": "PIuiKuCLkAYD",
    "outputId": "13b30987-38af-4185-e5d8-d612b0a97dd3"
   },
   "outputs": [
    {
     "data": {
      "image/png": "[encoded data removed]",
      "text/plain": [
       "<Figure size 1152x576 with 1 Axes>"
      ]
     },
     "metadata": {
      "needs_background": "light",
      "tags": []
     },
     "output_type": "display_data"
    }
   ],
   "source": [
    "plt.figure(figsize=(16, 8))\n",
    "plt.plot(thresholds, accuracies, color=\"dodgerblue\")\n",
    "plt.title(\"Accuracy for threshold values\", fontsize=16)\n",
    "plt.xlabel(\"Threshold\", fontsize=14)\n",
    "plt.ylabel(\"Accuracy\", fontsize=14)\n",
    "plt.grid()\n",
    "plt.show()"
   ]
  },
  {
   "cell_type": "code",
   "execution_count": null,
   "metadata": {
    "colab": {
     "base_uri": "https://localhost:8080/"
    },
    "id": "YFJBvz80icoY",
    "outputId": "85cce4d5-52ca-4675-983e-9a1c3723ff3e"
   },
   "outputs": [
    {
     "name": "stdout",
     "output_type": "stream",
     "text": [
      "              precision    recall  f1-score   support\n",
      "\n",
      "           0       0.79      0.80      0.79     49804\n",
      "           1       0.80      0.79      0.80     50196\n",
      "\n",
      "    accuracy                           0.79    100000\n",
      "   macro avg       0.79      0.80      0.79    100000\n",
      "weighted avg       0.80      0.79      0.79    100000\n",
      "\n"
     ]
    }
   ],
   "source": [
    "# best threshold\n",
    "threshold = thresholds[np.argmax(accuracies)]\n",
    "y_pred[y_pred >= threshold] = 1\n",
    "y_pred[y_pred < threshold] = 0\n",
    "\n",
    "print(classification_report(y_test, y_pred))"
   ]
  },
  {
   "cell_type": "markdown",
   "metadata": {
    "id": "fZ4mLXJbDne-"
   },
   "source": [
    "---\n",
    "## Pretrained Word Embeddings"
   ]
  },
  {
   "cell_type": "code",
   "execution_count": null,
   "metadata": {
    "colab": {
     "base_uri": "https://localhost:8080/"
    },
    "id": "9BS9ajRMDmA5",
    "outputId": "a5d4d5c0-c2b2-4518-f34c-3fa0c96d32f9"
   },
   "outputs": [
    {
     "name": "stdout",
     "output_type": "stream",
     "text": [
      "Found 186302 tokens.\n",
      "Found 1193514 word vectors.\n",
      "Hit 75349 words (110953 misses) - 0.40%\n",
      "Epoch 1/3\n",
      "5625/5625 [==============================] - 1127s 194ms/step - loss: 0.4562 - accuracy: 0.7829 - val_loss: 0.4008 - val_accuracy: 0.8201\n",
      "Epoch 2/3\n",
      "5625/5625 [==============================] - 1087s 193ms/step - loss: 0.3275 - accuracy: 0.8579 - val_loss: 0.4222 - val_accuracy: 0.8094\n",
      "Epoch 3/3\n",
      "5625/5625 [==============================] - 1090s 194ms/step - loss: 0.2328 - accuracy: 0.9020 - val_loss: 0.4815 - val_accuracy: 0.8010\n"
     ]
    }
   ],
   "source": [
    "import pandas as pd\n",
    "import numpy as np\n",
    "import matplotlib.pyplot as plt\n",
    "\n",
    "from sklearn.model_selection import train_test_split\n",
    "from sklearn.metrics import classification_report, accuracy_score\n",
    "\n",
    "from tensorflow.keras.layers.experimental.preprocessing import TextVectorization\n",
    "from tensorflow.keras.initializers import Constant\n",
    "from tensorflow.keras import Sequential\n",
    "from tensorflow.keras.layers import (\n",
    "    Input,\n",
    "    Embedding,\n",
    "    Bidirectional,\n",
    "    LSTM,\n",
    "    Dense,\n",
    "    Dropout,\n",
    ")\n",
    "\n",
    "# read dataset\n",
    "data = pd.read_parquet(\"drive/MyDrive/colab-data/pre-processed-tweets.parquet\")\n",
    "\n",
    "# tweet is the input and sentiment is the target\n",
    "X = np.array(data[\"tweet\"].tolist())\n",
    "y = np.array(data[\"sentiment\"].tolist())\n",
    "\n",
    "# split into train and test\n",
    "X_train, X_test, y_train, y_test = train_test_split(\n",
    "    X, y, test_size=0.2, random_state=11\n",
    ")\n",
    "\n",
    "# constants definition\n",
    "VOCAB_SIZE = 300000\n",
    "MAX_LENGTH = 64\n",
    "EMBEDDING_SIZE = 100\n",
    "\n",
    "# layer to encode text\n",
    "encoder = TextVectorization(max_tokens=VOCAB_SIZE, output_sequence_length=MAX_LENGTH)\n",
    "encoder.adapt(X_train)\n",
    "\n",
    "NUM_TOKENS = len(encoder.get_vocabulary())\n",
    "\n",
    "print(f\"Found {NUM_TOKENS} tokens.\")\n",
    "\n",
    "# load word embedding dict\n",
    "path_to_glove_file = f\"drive/MyDrive/colab-data/glove.twitter.27B.{EMBEDDING_SIZE}d.txt\"\n",
    "\n",
    "embeddings_index = {}\n",
    "with open(path_to_glove_file) as f:\n",
    "    for line in f:\n",
    "        word, coefs = line.split(maxsplit=1)\n",
    "        coefs = np.fromstring(coefs, \"f\", sep=\" \")\n",
    "        embeddings_index[word] = coefs\n",
    "\n",
    "print(f\"Found {len(embeddings_index)} word vectors.\")\n",
    "\n",
    "hits = 0\n",
    "misses = 0\n",
    "\n",
    "# Prepare embedding matrix\n",
    "embedding_matrix = np.zeros((NUM_TOKENS, EMBEDDING_SIZE))\n",
    "for i, word in enumerate(encoder.get_vocabulary()):\n",
    "    embedding_vector = embeddings_index.get(word)\n",
    "    if embedding_vector is not None:\n",
    "        # Words not found in embedding index will be all-zeros.\n",
    "        # This includes the representation for \"padding\" and \"OOV\"\n",
    "        embedding_matrix[i] = embedding_vector\n",
    "        hits += 1\n",
    "    else:\n",
    "        misses += 1\n",
    "\n",
    "print(f\"Hit {hits} words ({misses} misses) - {(hits * 100 / (hits+misses)):.2f}%\")\n",
    "\n",
    "model = Sequential(\n",
    "    [\n",
    "        encoder,\n",
    "        Embedding(\n",
    "            input_dim=len(encoder.get_vocabulary()),\n",
    "            output_dim=EMBEDDING_SIZE,\n",
    "            mask_zero=True,\n",
    "            embeddings_initializer=Constant(embedding_matrix), # initialize embeddings using embedding matrix\n",
    "            trainable=True,\n",
    "        ),\n",
    "        Bidirectional(LSTM(EMBEDDING_SIZE)),\n",
    "        Dense(MAX_LENGTH, activation=\"relu\"),\n",
    "        Dropout(0.2),\n",
    "        Dense(1, activation=\"sigmoid\"),\n",
    "    ]\n",
    ")\n",
    "\n",
    "model.compile(loss=\"binary_crossentropy\", optimizer=\"adam\", metrics=[\"accuracy\"])\n",
    "\n",
    "# fit model and predict test set\n",
    "model.fit(X_train, y_train, validation_split=0.1, batch_size=64, epochs=3)\n",
    "y_pred = model.predict(X_test)"
   ]
  },
  {
   "cell_type": "markdown",
   "metadata": {
    "id": "d27dnmbEncQT"
   },
   "source": [
    "#### Threshold analysis"
   ]
  },
  {
   "cell_type": "code",
   "execution_count": null,
   "metadata": {
    "id": "4re0pm1hncQY"
   },
   "outputs": [],
   "source": [
    "# brute force to find best threshold\n",
    "accuracies = []\n",
    "thresholds = np.arange(0, 1.01, .01)\n",
    "\n",
    "for threshold in thresholds:\n",
    "    y_pred_copy = y_pred.copy()\n",
    "    y_pred_copy[y_pred_copy >= threshold] = 1\n",
    "    y_pred_copy[y_pred_copy < threshold] = 0\n",
    "    \n",
    "    accuracies.append(accuracy_score(y_test, y_pred_copy))"
   ]
  },
  {
   "cell_type": "code",
   "execution_count": null,
   "metadata": {
    "colab": {
     "base_uri": "https://localhost:8080/",
     "height": 519
    },
    "id": "QbR26DH4ncQb",
    "outputId": "949f54b1-991a-4065-f252-141844e29b07"
   },
   "outputs": [
    {
     "data": {
      "image/png": "[encoded data removed]",
      "text/plain": [
       "<Figure size 1152x576 with 1 Axes>"
      ]
     },
     "metadata": {
      "needs_background": "light",
      "tags": []
     },
     "output_type": "display_data"
    }
   ],
   "source": [
    "plt.figure(figsize=(16, 8))\n",
    "plt.plot(thresholds, accuracies, color=\"dodgerblue\")\n",
    "plt.title(\"Accuracy for threshold values\", fontsize=16)\n",
    "plt.xlabel(\"Threshold\", fontsize=14)\n",
    "plt.ylabel(\"Accuracy\", fontsize=14)\n",
    "plt.grid()\n",
    "plt.show()"
   ]
  },
  {
   "cell_type": "code",
   "execution_count": null,
   "metadata": {
    "colab": {
     "base_uri": "https://localhost:8080/"
    },
    "id": "miUWhoZEncQe",
    "outputId": "3b2442a7-5976-486c-c3c7-12b6c305f2ad"
   },
   "outputs": [
    {
     "name": "stdout",
     "output_type": "stream",
     "text": [
      "              precision    recall  f1-score   support\n",
      "\n",
      "           0       0.80      0.80      0.80     49804\n",
      "           1       0.80      0.81      0.80     50196\n",
      "\n",
      "    accuracy                           0.80    100000\n",
      "   macro avg       0.80      0.80      0.80    100000\n",
      "weighted avg       0.80      0.80      0.80    100000\n",
      "\n"
     ]
    }
   ],
   "source": [
    "# best threshold\n",
    "threshold = thresholds[np.argmax(accuracies)]\n",
    "y_pred[y_pred >= threshold] = 1\n",
    "y_pred[y_pred < threshold] = 0\n",
    "\n",
    "print(classification_report(y_test, y_pred))"
   ]
  },
  {
   "cell_type": "markdown",
   "metadata": {
    "id": "olUtO-8ymRct"
   },
   "source": [
    "---\n",
    "## Bert based classifier"
   ]
  },
  {
   "cell_type": "code",
   "execution_count": null,
   "metadata": {
    "colab": {
     "base_uri": "https://localhost:8080/"
    },
    "id": "ccNz0sP9mSDd",
    "outputId": "c072ac0c-dd3e-46b4-a022-fb9f19a95513"
   },
   "outputs": [
    {
     "name": "stdout",
     "output_type": "stream",
     "text": [
      "Epoch 1/2\n",
      "5625/5625 [==============================] - 1573s 279ms/step - loss: 0.5820 - accuracy: 0.6933 - val_loss: 0.5483 - val_accuracy: 0.7251\n",
      "Epoch 2/2\n",
      "5625/5625 [==============================] - 1577s 280ms/step - loss: 0.5631 - accuracy: 0.7074 - val_loss: 0.5429 - val_accuracy: 0.7257\n"
     ]
    }
   ],
   "source": [
    "import pandas as pd\n",
    "import numpy as np\n",
    "import matplotlib.pyplot as plt\n",
    "\n",
    "from sklearn.model_selection import train_test_split\n",
    "from sklearn.metrics import classification_report, accuracy_score\n",
    "\n",
    "import tensorflow as tf\n",
    "import tensorflow_hub as hub\n",
    "import tensorflow_text as text\n",
    "from tensorflow.keras.layers import Input, Dropout, Dense\n",
    "from tensorflow.keras import Model\n",
    "\n",
    "# read dataset\n",
    "data = pd.read_parquet(\"drive/MyDrive/colab-data/pre-processed-tweets.parquet\")\n",
    "\n",
    "# tweet is the input and sentiment is the target\n",
    "X = np.array(data[\"tweet\"].tolist())\n",
    "y = np.array(data[\"sentiment\"].tolist())\n",
    "\n",
    "# split into train and test\n",
    "X_train, X_test, y_train, y_test = train_test_split(\n",
    "    X, y, test_size=0.2, random_state=11\n",
    ")\n",
    "\n",
    "# pre-trained bert-based utils\n",
    "tfhub_handle_preprocess = \"https://tfhub.dev/tensorflow/bert_en_uncased_preprocess/3\"\n",
    "tfhub_handle_encoder = (\n",
    "    \"https://tfhub.dev/tensorflow/small_bert/bert_en_uncased_L-4_H-512_A-8/1\"\n",
    ")\n",
    "\n",
    "# define model\n",
    "text_input = Input(shape=(), dtype=tf.string, name=\"text\")\n",
    "\n",
    "# pre-trained layers\n",
    "encoder_inputs = hub.KerasLayer(tfhub_handle_preprocess, name=\"preprocessing\")(\n",
    "    text_input\n",
    ")\n",
    "outputs = hub.KerasLayer(tfhub_handle_encoder, trainable=False, name=\"BERT_encoder\")(\n",
    "    encoder_inputs\n",
    ")\n",
    "net = outputs[\"pooled_output\"]\n",
    "\n",
    "# last custom layers\n",
    "drop = Dropout(0.1)(net)\n",
    "dense = Dense(128)(drop)\n",
    "out = Dense(1, activation=\"sigmoid\")(dense)\n",
    "\n",
    "model = Model(text_input, out)\n",
    "\n",
    "model.compile(optimizer=\"adam\", loss=\"binary_crossentropy\", metrics=[\"accuracy\"])\n",
    "\n",
    "# fit model and predict test set\n",
    "model.fit(X_train, y_train, validation_split=0.1, batch_size=64, epochs=2)\n",
    "y_pred = model.predict(X_test)"
   ]
  },
  {
   "cell_type": "markdown",
   "metadata": {
    "id": "9l_YK9usnh2u"
   },
   "source": [
    "#### Threshold analysis"
   ]
  },
  {
   "cell_type": "code",
   "execution_count": null,
   "metadata": {
    "id": "ZdydSJF0nh2u"
   },
   "outputs": [],
   "source": [
    "# brute force to find best threshold\n",
    "accuracies = []\n",
    "thresholds = np.arange(0, 1.01, .01)\n",
    "\n",
    "for threshold in thresholds:\n",
    "    y_pred_copy = y_pred.copy()\n",
    "    y_pred_copy[y_pred_copy >= threshold] = 1\n",
    "    y_pred_copy[y_pred_copy < threshold] = 0\n",
    "    \n",
    "    accuracies.append(accuracy_score(y_test, y_pred_copy))"
   ]
  },
  {
   "cell_type": "code",
   "execution_count": null,
   "metadata": {
    "colab": {
     "base_uri": "https://localhost:8080/",
     "height": 519
    },
    "id": "pdA6j5Zanh2v",
    "outputId": "36aaee33-43c4-40df-96db-bdfebf13cbb0"
   },
   "outputs": [
    {
     "data": {
      "image/png": "[encoded data removed]",
      "text/plain": [
       "<Figure size 1152x576 with 1 Axes>"
      ]
     },
     "metadata": {
      "needs_background": "light",
      "tags": []
     },
     "output_type": "display_data"
    }
   ],
   "source": [
    "plt.figure(figsize=(16, 8))\n",
    "plt.plot(thresholds, accuracies, color=\"dodgerblue\")\n",
    "plt.title(\"Accuracy for threshold values\", fontsize=16)\n",
    "plt.xlabel(\"Threshold\", fontsize=14)\n",
    "plt.ylabel(\"Accuracy\", fontsize=14)\n",
    "plt.grid()\n",
    "plt.show()"
   ]
  },
  {
   "cell_type": "code",
   "execution_count": null,
   "metadata": {
    "colab": {
     "base_uri": "https://localhost:8080/"
    },
    "id": "UXHkuQxqnh2w",
    "outputId": "a21e1446-cbc5-4419-9461-fef127d2cccf"
   },
   "outputs": [
    {
     "name": "stdout",
     "output_type": "stream",
     "text": [
      "              precision    recall  f1-score   support\n",
      "\n",
      "           0       0.72      0.73      0.72     49804\n",
      "           1       0.73      0.72      0.72     50196\n",
      "\n",
      "    accuracy                           0.72    100000\n",
      "   macro avg       0.72      0.72      0.72    100000\n",
      "weighted avg       0.72      0.72      0.72    100000\n",
      "\n"
     ]
    }
   ],
   "source": [
    "# best threshold\n",
    "threshold = thresholds[np.argmax(accuracies)]\n",
    "y_pred[y_pred >= threshold] = 1\n",
    "y_pred[y_pred < threshold] = 0\n",
    "\n",
    "print(classification_report(y_test, y_pred))"
   ]
  },
  {
   "cell_type": "markdown",
   "metadata": {
    "id": "T6NoXr3zE4f1"
   },
   "source": [
    "## Sentence Embedding"
   ]
  },
  {
   "cell_type": "code",
   "execution_count": null,
   "metadata": {
    "colab": {
     "base_uri": "https://localhost:8080/",
     "height": 188,
     "referenced_widgets": [
      "259db6d9c0874d04ac977c93a198c932",
      "cd2af6772e7f48dc902a977fd9b5635d",
      "bd4054c09bba4b898c27f65e267d47f3",
      "953f9d9e99b040e782d5a5682d46ecad",
      "9f6de039f5cd44e09f7fda4e63a49a12",
      "dbf4a03103254960bb64674acd83efef",
      "2f251089ed0e4bf9baf06c506be9f126",
      "a6e9fb0dcda3440fb7ee4f95063b2b6d"
     ]
    },
    "id": "uULyCjJrE7QZ",
    "outputId": "185138b8-6e36-4bee-cbc2-3ca3fcfcbe8a"
   },
   "outputs": [
    {
     "name": "stderr",
     "output_type": "stream",
     "text": [
      "100%|██████████| 504M/504M [00:17<00:00, 28.4MB/s]\n"
     ]
    },
    {
     "data": {
      "application/vnd.jupyter.widget-view+json": {
       "model_id": "259db6d9c0874d04ac977c93a198c932",
       "version_major": 2,
       "version_minor": 0
      },
      "text/plain": [
       "HBox(children=(FloatProgress(value=0.0, description='Batches', max=15625.0, style=ProgressStyle(description_wi…"
      ]
     },
     "metadata": {
      "tags": []
     },
     "output_type": "display_data"
    },
    {
     "name": "stdout",
     "output_type": "stream",
     "text": [
      "\n",
      "Epoch 1/3\n",
      "5625/5625 [==============================] - 16s 2ms/step - loss: 0.4671 - accuracy: 0.7775 - val_loss: 0.4346 - val_accuracy: 0.7959\n",
      "Epoch 2/3\n",
      "5625/5625 [==============================] - 12s 2ms/step - loss: 0.4308 - accuracy: 0.7983 - val_loss: 0.4285 - val_accuracy: 0.7987\n",
      "Epoch 3/3\n",
      "5625/5625 [==============================] - 13s 2ms/step - loss: 0.4196 - accuracy: 0.8056 - val_loss: 0.4277 - val_accuracy: 0.7988\n"
     ]
    }
   ],
   "source": [
    "import pandas as pd\n",
    "import numpy as np\n",
    "import matplotlib.pyplot as plt\n",
    "\n",
    "from sklearn.model_selection import train_test_split\n",
    "from sklearn.metrics import classification_report, accuracy_score\n",
    "\n",
    "from sentence_transformers import SentenceTransformer\n",
    "\n",
    "from tensorflow.keras.layers import Input, Dense, Dropout\n",
    "from tensorflow.keras import Model\n",
    "\n",
    "# read dataset\n",
    "data = pd.read_parquet(\"drive/MyDrive/colab-data/pre-processed-tweets.parquet\")\n",
    "\n",
    "# tweet is the input and sentiment is the target\n",
    "X = data[\"tweet\"].tolist()\n",
    "y = np.array(data[\"sentiment\"].tolist())\n",
    "\n",
    "# extract sentence (tweet) embedding\n",
    "sentence_encoder = SentenceTransformer(\"distiluse-base-multilingual-cased-v2\")\n",
    "X = sentence_encoder.encode(X, show_progress_bar=True)\n",
    "\n",
    "# split into train and test\n",
    "X_train, X_test, y_train, y_test = train_test_split(\n",
    "    X, y, test_size=0.2, random_state=11\n",
    ")\n",
    "\n",
    "# define model\n",
    "inp = Input(shape=(512))\n",
    "dense = Dense(128, activation=\"relu\")(inp)\n",
    "drop = Dropout(0.2)(dense)\n",
    "dense = Dense(32, activation=\"relu\")(drop)\n",
    "out = Dense(1, activation=\"sigmoid\")(dense)\n",
    "\n",
    "clf = Model(inp, out)\n",
    "\n",
    "clf.compile(loss=\"binary_crossentropy\", optimizer=\"adam\", metrics=[\"accuracy\"])\n",
    "\n",
    "# fit model and predict test set\n",
    "clf.fit(X_train, y_train, validation_split=0.1, batch_size=64, epochs=3)\n",
    "y_pred = clf.predict(X_test)"
   ]
  },
  {
   "cell_type": "markdown",
   "metadata": {
    "id": "BuVH9ydrnlBB"
   },
   "source": [
    "#### Threshold analysis"
   ]
  },
  {
   "cell_type": "code",
   "execution_count": null,
   "metadata": {
    "id": "VY-UeKGFnlBE"
   },
   "outputs": [],
   "source": [
    "# brute force to find best threshold\n",
    "accuracies = []\n",
    "thresholds = np.arange(0, 1.01, .01)\n",
    "\n",
    "for threshold in thresholds:\n",
    "    y_pred_copy = y_pred.copy()\n",
    "    y_pred_copy[y_pred_copy >= threshold] = 1\n",
    "    y_pred_copy[y_pred_copy < threshold] = 0\n",
    "    \n",
    "    accuracies.append(accuracy_score(y_test, y_pred_copy))"
   ]
  },
  {
   "cell_type": "code",
   "execution_count": null,
   "metadata": {
    "colab": {
     "base_uri": "https://localhost:8080/",
     "height": 519
    },
    "id": "EPiQmFWhnlBG",
    "outputId": "7c1ab3f4-e3ec-43f4-cd62-672b076ca15a"
   },
   "outputs": [
    {
     "data": {
      "image/png": "[encoded data removed]",
      "text/plain": [
       "<Figure size 1152x576 with 1 Axes>"
      ]
     },
     "metadata": {
      "needs_background": "light",
      "tags": []
     },
     "output_type": "display_data"
    }
   ],
   "source": [
    "plt.figure(figsize=(16, 8))\n",
    "plt.plot(thresholds, accuracies, color=\"dodgerblue\")\n",
    "plt.title(\"Accuracy for threshold values\", fontsize=16)\n",
    "plt.xlabel(\"Threshold\", fontsize=14)\n",
    "plt.ylabel(\"Accuracy\", fontsize=14)\n",
    "plt.grid()\n",
    "plt.show()"
   ]
  },
  {
   "cell_type": "code",
   "execution_count": null,
   "metadata": {
    "colab": {
     "base_uri": "https://localhost:8080/"
    },
    "id": "igq3T48lnlBI",
    "outputId": "2058f924-ce5a-441e-c2dd-d64953b03e85"
   },
   "outputs": [
    {
     "name": "stdout",
     "output_type": "stream",
     "text": [
      "              precision    recall  f1-score   support\n",
      "\n",
      "           0       0.81      0.79      0.80     49804\n",
      "           1       0.80      0.81      0.81     50196\n",
      "\n",
      "    accuracy                           0.80    100000\n",
      "   macro avg       0.80      0.80      0.80    100000\n",
      "weighted avg       0.80      0.80      0.80    100000\n",
      "\n"
     ]
    }
   ],
   "source": [
    "# best threshold\n",
    "threshold = thresholds[np.argmax(accuracies)]\n",
    "y_pred[y_pred >= threshold] = 1\n",
    "y_pred[y_pred < threshold] = 0\n",
    "\n",
    "print(classification_report(y_test, y_pred))"
   ]
  }
 ],
 "metadata": {
  "colab": {
   "collapsed_sections": [
    "RfPioTLkmm3u",
    "olUtO-8ymRct",
    "T6NoXr3zE4f1"
   ],
   "name": "Sentiment-Classification.ipynb",
   "provenance": [],
   "toc_visible": true
  },
  "kernelspec": {
   "display_name": "Python 3",
   "language": "python",
   "name": "python3"
  },
  "language_info": {
   "codemirror_mode": {
    "name": "ipython",
    "version": 3
   },
   "file_extension": ".py",
   "mimetype": "text/x-python",
   "name": "python",
   "nbconvert_exporter": "python",
   "pygments_lexer": "ipython3",
   "version": "3.8.5"
  },
  "widgets": {
   "application/vnd.jupyter.widget-state+json": {
    "259db6d9c0874d04ac977c93a198c932": {
     "model_module": "@jupyter-widgets/controls",
     "model_name": "HBoxModel",
     "state": {
      "_dom_classes": [],
      "_model_module": "@jupyter-widgets/controls",
      "_model_module_version": "1.5.0",
      "_model_name": "HBoxModel",
      "_view_count": null,
      "_view_module": "@jupyter-widgets/controls",
      "_view_module_version": "1.5.0",
      "_view_name": "HBoxView",
      "box_style": "",
      "children": [
       "IPY_MODEL_bd4054c09bba4b898c27f65e267d47f3",
       "IPY_MODEL_953f9d9e99b040e782d5a5682d46ecad"
      ],
      "layout": "IPY_MODEL_cd2af6772e7f48dc902a977fd9b5635d"
     }
    },
    "2f251089ed0e4bf9baf06c506be9f126": {
     "model_module": "@jupyter-widgets/controls",
     "model_name": "DescriptionStyleModel",
     "state": {
      "_model_module": "@jupyter-widgets/controls",
      "_model_module_version": "1.5.0",
      "_model_name": "DescriptionStyleModel",
      "_view_count": null,
      "_view_module": "@jupyter-widgets/base",
      "_view_module_version": "1.2.0",
      "_view_name": "StyleView",
      "description_width": ""
     }
    },
    "953f9d9e99b040e782d5a5682d46ecad": {
     "model_module": "@jupyter-widgets/controls",
     "model_name": "HTMLModel",
     "state": {
      "_dom_classes": [],
      "_model_module": "@jupyter-widgets/controls",
      "_model_module_version": "1.5.0",
      "_model_name": "HTMLModel",
      "_view_count": null,
      "_view_module": "@jupyter-widgets/controls",
      "_view_module_version": "1.5.0",
      "_view_name": "HTMLView",
      "description": "",
      "description_tooltip": null,
      "layout": "IPY_MODEL_a6e9fb0dcda3440fb7ee4f95063b2b6d",
      "placeholder": "​",
      "style": "IPY_MODEL_2f251089ed0e4bf9baf06c506be9f126",
      "value": " 15625/15625 [10:33&lt;00:00, 24.68it/s]"
     }
    },
    "9f6de039f5cd44e09f7fda4e63a49a12": {
     "model_module": "@jupyter-widgets/controls",
     "model_name": "ProgressStyleModel",
     "state": {
      "_model_module": "@jupyter-widgets/controls",
      "_model_module_version": "1.5.0",
      "_model_name": "ProgressStyleModel",
      "_view_count": null,
      "_view_module": "@jupyter-widgets/base",
      "_view_module_version": "1.2.0",
      "_view_name": "StyleView",
      "bar_color": null,
      "description_width": "initial"
     }
    },
    "a6e9fb0dcda3440fb7ee4f95063b2b6d": {
     "model_module": "@jupyter-widgets/base",
     "model_name": "LayoutModel",
     "state": {
      "_model_module": "@jupyter-widgets/base",
      "_model_module_version": "1.2.0",
      "_model_name": "LayoutModel",
      "_view_count": null,
      "_view_module": "@jupyter-widgets/base",
      "_view_module_version": "1.2.0",
      "_view_name": "LayoutView",
      "align_content": null,
      "align_items": null,
      "align_self": null,
      "border": null,
      "bottom": null,
      "display": null,
      "flex": null,
      "flex_flow": null,
      "grid_area": null,
      "grid_auto_columns": null,
      "grid_auto_flow": null,
      "grid_auto_rows": null,
      "grid_column": null,
      "grid_gap": null,
      "grid_row": null,
      "grid_template_areas": null,
      "grid_template_columns": null,
      "grid_template_rows": null,
      "height": null,
      "justify_content": null,
      "justify_items": null,
      "left": null,
      "margin": null,
      "max_height": null,
      "max_width": null,
      "min_height": null,
      "min_width": null,
      "object_fit": null,
      "object_position": null,
      "order": null,
      "overflow": null,
      "overflow_x": null,
      "overflow_y": null,
      "padding": null,
      "right": null,
      "top": null,
      "visibility": null,
      "width": null
     }
    },
    "bd4054c09bba4b898c27f65e267d47f3": {
     "model_module": "@jupyter-widgets/controls",
     "model_name": "FloatProgressModel",
     "state": {
      "_dom_classes": [],
      "_model_module": "@jupyter-widgets/controls",
      "_model_module_version": "1.5.0",
      "_model_name": "FloatProgressModel",
      "_view_count": null,
      "_view_module": "@jupyter-widgets/controls",
      "_view_module_version": "1.5.0",
      "_view_name": "ProgressView",
      "bar_style": "success",
      "description": "Batches: 100%",
      "description_tooltip": null,
      "layout": "IPY_MODEL_dbf4a03103254960bb64674acd83efef",
      "max": 15625,
      "min": 0,
      "orientation": "horizontal",
      "style": "IPY_MODEL_9f6de039f5cd44e09f7fda4e63a49a12",
      "value": 15625
     }
    },
    "cd2af6772e7f48dc902a977fd9b5635d": {
     "model_module": "@jupyter-widgets/base",
     "model_name": "LayoutModel",
     "state": {
      "_model_module": "@jupyter-widgets/base",
      "_model_module_version": "1.2.0",
      "_model_name": "LayoutModel",
      "_view_count": null,
      "_view_module": "@jupyter-widgets/base",
      "_view_module_version": "1.2.0",
      "_view_name": "LayoutView",
      "align_content": null,
      "align_items": null,
      "align_self": null,
      "border": null,
      "bottom": null,
      "display": null,
      "flex": null,
      "flex_flow": null,
      "grid_area": null,
      "grid_auto_columns": null,
      "grid_auto_flow": null,
      "grid_auto_rows": null,
      "grid_column": null,
      "grid_gap": null,
      "grid_row": null,
      "grid_template_areas": null,
      "grid_template_columns": null,
      "grid_template_rows": null,
      "height": null,
      "justify_content": null,
      "justify_items": null,
      "left": null,
      "margin": null,
      "max_height": null,
      "max_width": null,
      "min_height": null,
      "min_width": null,
      "object_fit": null,
      "object_position": null,
      "order": null,
      "overflow": null,
      "overflow_x": null,
      "overflow_y": null,
      "padding": null,
      "right": null,
      "top": null,
      "visibility": null,
      "width": null
     }
    },
    "dbf4a03103254960bb64674acd83efef": {
     "model_module": "@jupyter-widgets/base",
     "model_name": "LayoutModel",
     "state": {
      "_model_module": "@jupyter-widgets/base",
      "_model_module_version": "1.2.0",
      "_model_name": "LayoutModel",
      "_view_count": null,
      "_view_module": "@jupyter-widgets/base",
      "_view_module_version": "1.2.0",
      "_view_name": "LayoutView",
      "align_content": null,
      "align_items": null,
      "align_self": null,
      "border": null,
      "bottom": null,
      "display": null,
      "flex": null,
      "flex_flow": null,
      "grid_area": null,
      "grid_auto_columns": null,
      "grid_auto_flow": null,
      "grid_auto_rows": null,
      "grid_column": null,
      "grid_gap": null,
      "grid_row": null,
      "grid_template_areas": null,
      "grid_template_columns": null,
      "grid_template_rows": null,
      "height": null,
      "justify_content": null,
      "justify_items": null,
      "left": null,
      "margin": null,
      "max_height": null,
      "max_width": null,
      "min_height": null,
      "min_width": null,
      "object_fit": null,
      "object_position": null,
      "order": null,
      "overflow": null,
      "overflow_x": null,
      "overflow_y": null,
      "padding": null,
      "right": null,
      "top": null,
      "visibility": null,
      "width": null
     }
    }
   }
  }
 },
 "nbformat": 4,
 "nbformat_minor": 1
}
