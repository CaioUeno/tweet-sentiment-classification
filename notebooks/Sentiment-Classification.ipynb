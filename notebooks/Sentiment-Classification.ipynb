{
  "nbformat": 4,
  "nbformat_minor": 0,
  "metadata": {
    "accelerator": "GPU",
    "colab": {
      "name": "Sentiment-Classification.ipynb",
      "provenance": [],
      "collapsed_sections": [
        "5tXSkc3ixVvD",
        "abIaunnnoqYn"
      ],
      "toc_visible": true
    },
    "kernelspec": {
      "display_name": "Python 3",
      "name": "python3"
    }
  },
  "cells": [
    {
      "cell_type": "code",
      "metadata": {
        "id": "QgCaIr7hxPWy"
      },
      "source": [
        "# I used google colab to run this notebook\n",
        "# you have to install some packages"
      ],
      "execution_count": null,
      "outputs": []
    },
    {
      "cell_type": "code",
      "metadata": {
        "colab": {
          "background_save": true
        },
        "id": "luilG49dxPaZ"
      },
      "source": [
        "%%capture\n",
        "!pip install sklearn pandas numpu tensorflow\n",
        "!pip install -q tensorflow-text\n",
        "!pip install -q tf-models-official\n",
        "!pip install sentence-transformers"
      ],
      "execution_count": null,
      "outputs": []
    },
    {
      "cell_type": "code",
      "metadata": {
        "colab": {
          "background_save": true
        },
        "id": "h6Ob6vfcxPck",
        "outputId": "d37ccf66-67b8-49d3-c604-e1593d09ac9b"
      },
      "source": [
        "import tensorflow as tf\n",
        "tf.device('/device:GPU:0')"
      ],
      "execution_count": null,
      "outputs": [
        {
          "output_type": "execute_result",
          "data": {
            "text/plain": [
              "<tensorflow.python.eager.context._EagerDeviceContext at 0x7efe2cdb2730>"
            ]
          },
          "metadata": {
            "tags": []
          },
          "execution_count": 0
        }
      ]
    },
    {
      "cell_type": "markdown",
      "metadata": {
        "id": "L_3HET1hFilH"
      },
      "source": [
        "## Imports, load data and constants definitions"
      ]
    },
    {
      "cell_type": "code",
      "metadata": {
        "colab": {
          "background_save": true
        },
        "id": "rPWYSXfhxPes"
      },
      "source": [
        "import pandas as pd\n",
        "import numpy as np\n",
        "import matplotlib.pyplot as plt\n",
        "\n",
        "from sklearn.metrics import classification_report, accuracy_score\n",
        "\n",
        "import tensorflow as tf\n",
        "import tensorflow_hub as hub\n",
        "import tensorflow_text as text\n",
        "from tensorflow.keras.layers.experimental.preprocessing import TextVectorization\n",
        "from tensorflow.keras.initializers import Constant\n",
        "from tensorflow.keras import Sequential, Model\n",
        "from tensorflow.keras.layers import (\n",
        "    Input,\n",
        "    Embedding,\n",
        "    Bidirectional,\n",
        "    LSTM,\n",
        "    Dense,\n",
        "    Dropout,\n",
        ")\n",
        "from tensorflow.keras.callbacks import EarlyStopping\n",
        "\n",
        "# constants definition\n",
        "VOCAB_SIZE =  389833 # less than the actual size (719994)\n",
        "MAX_LENGTH = 64\n",
        "EMBEDDING_SIZE = 100\n",
        "\n",
        "# load train and test sets\n",
        "train = pd.read_parquet(\"drive/MyDrive/ColabData/train.parquet\")\n",
        "test = pd.read_parquet(\"drive/MyDrive/ColabData/test.parquet\")\n",
        "\n",
        "X_train = np.array(train[\"tweet\"].tolist())\n",
        "y_train = np.array(train[\"sentiment\"].tolist())\n",
        "X_test = np.array(test[\"tweet\"].tolist())\n",
        "y_test = np.array(test[\"sentiment\"].tolist())"
      ],
      "execution_count": null,
      "outputs": []
    },
    {
      "cell_type": "markdown",
      "metadata": {
        "id": "5tXSkc3ixVvD"
      },
      "source": [
        "## Embedding Layer from scratch\n",
        "\n",
        "Create a model with a Embedding layer \"randomly\" initialized."
      ]
    },
    {
      "cell_type": "code",
      "metadata": {
        "colab": {
          "base_uri": "https://localhost:8080/"
        },
        "id": "UjjjmSZtFCQe",
        "outputId": "692ff7b0-905e-44b6-f3ea-af666075283c"
      },
      "source": [
        "# layer to encode text\n",
        "encoder = TextVectorization(max_tokens=VOCAB_SIZE, output_sequence_length=MAX_LENGTH)\n",
        "encoder.adapt(X_train)\n",
        "\n",
        "model = Sequential(\n",
        "    [\n",
        "        encoder,\n",
        "        Embedding(\n",
        "            input_dim=len(encoder.get_vocabulary()),\n",
        "            output_dim=EMBEDDING_SIZE,\n",
        "            mask_zero=True,\n",
        "        ),\n",
        "        Bidirectional(LSTM(EMBEDDING_SIZE)),\n",
        "        Dense(MAX_LENGTH, activation=\"relu\"),\n",
        "        Dropout(0.25),\n",
        "        Dense(1, activation=\"sigmoid\"),\n",
        "    ]\n",
        ")\n",
        "\n",
        "model.compile(loss=\"binary_crossentropy\", optimizer=\"adam\", metrics=[\"accuracy\"])\n",
        "\n",
        "# fit model and predict test set\n",
        "model.fit(X_train, y_train, validation_split=0.1, batch_size=128, epochs=8, \n",
        "          callbacks=[EarlyStopping(monitor=\"val_accuracy\", patience=3, restore_best_weights=True)])\n",
        "y_pred = model.predict(X_test)"
      ],
      "execution_count": null,
      "outputs": [
        {
          "output_type": "stream",
          "text": [
            "Epoch 1/8\n",
            "4756/4756 [==============================] - 1836s 383ms/step - loss: 0.4273 - accuracy: 0.8016 - val_loss: 0.3892 - val_accuracy: 0.8166\n",
            "Epoch 2/8\n",
            "4756/4756 [==============================] - 1811s 381ms/step - loss: 0.3298 - accuracy: 0.8559 - val_loss: 0.3766 - val_accuracy: 0.8278\n",
            "Epoch 3/8\n",
            "4756/4756 [==============================] - 1812s 381ms/step - loss: 0.2452 - accuracy: 0.8971 - val_loss: 0.4133 - val_accuracy: 0.8208\n",
            "Epoch 4/8\n",
            "4756/4756 [==============================] - 1791s 377ms/step - loss: 0.1821 - accuracy: 0.9242 - val_loss: 0.5316 - val_accuracy: 0.8112\n",
            "Epoch 5/8\n",
            "4756/4756 [==============================] - 1798s 378ms/step - loss: 0.1449 - accuracy: 0.9387 - val_loss: 0.6022 - val_accuracy: 0.8008\n"
          ],
          "name": "stdout"
        }
      ]
    },
    {
      "cell_type": "markdown",
      "metadata": {
        "id": "7HyUuC3UFGok"
      },
      "source": [
        "### Threshold Search\n",
        "brute force to find best threshold."
      ]
    },
    {
      "cell_type": "code",
      "metadata": {
        "colab": {
          "base_uri": "https://localhost:8080/"
        },
        "id": "iA6EN6z-FEfo",
        "outputId": "a5e21903-960a-4c2f-c318-abdea6a0f15d"
      },
      "source": [
        "# brute force to find best threshold\n",
        "accuracies = []\n",
        "thresholds = np.arange(0, 1.01, .01)\n",
        "\n",
        "for threshold in thresholds:\n",
        "    y_pred_copy = y_pred.copy()\n",
        "    y_pred_copy[y_pred_copy >= threshold] = 1\n",
        "    y_pred_copy[y_pred_copy < threshold] = 0\n",
        "    \n",
        "    accuracies.append(accuracy_score(y_test, y_pred_copy))\n",
        "\n",
        "# best threshold\n",
        "threshold = thresholds[np.argmax(accuracies)]\n",
        "y_pred[y_pred >= threshold] = 1\n",
        "y_pred[y_pred < threshold] = 0\n",
        "\n",
        "print(f\"Best threshold: {threshold:.2f}\")"
      ],
      "execution_count": null,
      "outputs": [
        {
          "output_type": "stream",
          "text": [
            "Best threshold: 0.62\n"
          ],
          "name": "stdout"
        }
      ]
    },
    {
      "cell_type": "code",
      "metadata": {
        "colab": {
          "base_uri": "https://localhost:8080/"
        },
        "id": "bJjOBzHXFEj7",
        "outputId": "4022accc-e0ba-4b5c-94e2-71a27b242d06"
      },
      "source": [
        "print(classification_report(y_test, y_pred))"
      ],
      "execution_count": null,
      "outputs": [
        {
          "output_type": "stream",
          "text": [
            "              precision    recall  f1-score   support\n",
            "\n",
            "           0       0.83      0.85      0.84    533571\n",
            "           1       0.79      0.76      0.78    390037\n",
            "\n",
            "    accuracy                           0.81    923608\n",
            "   macro avg       0.81      0.81      0.81    923608\n",
            "weighted avg       0.81      0.81      0.81    923608\n",
            "\n"
          ],
          "name": "stdout"
        }
      ]
    },
    {
      "cell_type": "markdown",
      "metadata": {
        "id": "4246ifDfJBoy"
      },
      "source": [
        "### Quantification Analysis\n",
        "Over time Qunatification Analysis, is the classifier a good quantifier?"
      ]
    },
    {
      "cell_type": "code",
      "metadata": {
        "id": "pyOmkJDYBFM-"
      },
      "source": [
        "test[\"pred\"] = y_pred.astype(int)\n",
        "test[\"error\"] = (test[\"sentiment\"] !=  test[\"pred\"]).astype(int)\n",
        "\n",
        "error_quantity = test.groupby(\"date\")[\"error\"].sum().resample(\"D\").sum() / test.groupby(\"date\")[\"sentiment\"].count().resample(\"D\").sum()\n",
        "# error_quantity = error_quantity.fillna(0)"
      ],
      "execution_count": null,
      "outputs": []
    },
    {
      "cell_type": "code",
      "metadata": {
        "colab": {
          "base_uri": "https://localhost:8080/",
          "height": 428
        },
        "id": "2cJRbXEXBw1s",
        "outputId": "70130a7a-5c3b-4766-ee3d-c61ea5b8a42b"
      },
      "source": [
        "error_quantity.plot(color=\"dodgerblue\", grid=True, figsize=(16, 6))\n",
        "plt.title(\"Over Time Analysis\", fontsize=14)\n",
        "plt.legend([\"Mislabeled Percentage\"])\n",
        "plt.show()"
      ],
      "execution_count": null,
      "outputs": [
        {
          "output_type": "display_data",
          "data": {
            "image/png": "[encoded data removed]",
            "text/plain": [
              "<Figure size 1152x432 with 1 Axes>"
            ]
          },
          "metadata": {
            "tags": []
          }
        }
      ]
    },
    {
      "cell_type": "markdown",
      "metadata": {
        "id": "abIaunnnoqYn"
      },
      "source": [
        "---\n",
        "## Pretrained Word Embeddings\n",
        "Same model architecture, but Embedding layer is initialized with pre-trained word embeddings from GLoVe. Also, the Embedding layer is trainable."
      ]
    },
    {
      "cell_type": "code",
      "metadata": {
        "colab": {
          "base_uri": "https://localhost:8080/"
        },
        "id": "rD9fWnrMoV1i",
        "outputId": "ca8cf35c-bddf-426a-b6ab-a7d4b61f5e3b"
      },
      "source": [
        "X_train = np.array(train[\"tweet\"].tolist())\n",
        "y_train = np.array(train[\"sentiment\"].tolist())\n",
        "X_test = np.array(test[\"tweet\"].tolist())\n",
        "y_test = np.array(test[\"sentiment\"].tolist())\n",
        "\n",
        "# layer to encode text\n",
        "encoder = TextVectorization(max_tokens=VOCAB_SIZE, output_sequence_length=MAX_LENGTH)\n",
        "encoder.adapt(X_train)\n",
        "\n",
        "NUM_TOKENS = len(encoder.get_vocabulary())\n",
        "\n",
        "# load word embedding dict\n",
        "path_to_glove_file = f\"drive/MyDrive/ColabData/glove.twitter.27B.{EMBEDDING_SIZE}d.txt\"\n",
        "\n",
        "embeddings_index = {}\n",
        "with open(path_to_glove_file) as f:\n",
        "    for line in f:\n",
        "        word, coefs = line.split(maxsplit=1)\n",
        "        coefs = np.fromstring(coefs, \"f\", sep=\" \")\n",
        "        embeddings_index[word] = coefs\n",
        "\n",
        "hits = 0\n",
        "misses = 0\n",
        "\n",
        "# Prepare embedding matrix\n",
        "embedding_matrix = np.zeros((NUM_TOKENS, EMBEDDING_SIZE))\n",
        "for i, word in enumerate(encoder.get_vocabulary()):\n",
        "    embedding_vector = embeddings_index.get(word)\n",
        "    if embedding_vector is not None:\n",
        "        # Words not found in embedding index will be all-zeros.\n",
        "        # This includes the representation for \"padding\" and \"OOV\"\n",
        "        embedding_matrix[i] = embedding_vector\n",
        "        hits += 1\n",
        "    else:\n",
        "        misses += 1\n",
        "\n",
        "print(f\"Hit {hits} words ({misses} misses) - {(hits * 100 / (hits+misses)):.2f}%\")\n",
        "\n",
        "model = Sequential(\n",
        "    [\n",
        "        encoder,\n",
        "        Embedding(\n",
        "            input_dim=len(encoder.get_vocabulary()),\n",
        "            output_dim=EMBEDDING_SIZE,\n",
        "            mask_zero=True,\n",
        "            embeddings_initializer=Constant(embedding_matrix), # initialize embeddings using embedding matrix\n",
        "            trainable=True, # trainable \n",
        "        ),\n",
        "        Bidirectional(LSTM(EMBEDDING_SIZE)),\n",
        "        Dense(MAX_LENGTH, activation=\"relu\"),\n",
        "        Dropout(0.25),\n",
        "        Dense(1, activation=\"sigmoid\"),\n",
        "    ]\n",
        ")\n",
        "\n",
        "model.compile(loss=\"binary_crossentropy\", optimizer=\"adam\", metrics=[\"accuracy\"])\n",
        "\n",
        "# fit model and predict test set\n",
        "model.fit(X_train, y_train, validation_split=0.1, batch_size=128, epochs=8, \n",
        "          callbacks=[EarlyStopping(monitor=\"val_accuracy\", patience=3, restore_best_weights=True)])\n",
        "y_pred = model.predict(X_test)"
      ],
      "execution_count": null,
      "outputs": [
        {
          "output_type": "stream",
          "text": [
            "Hit 93127 words (173523 misses) - 34.92%\n",
            "Epoch 1/8\n",
            "4756/4756 [==============================] - 1499s 312ms/step - loss: 0.4146 - accuracy: 0.8088 - val_loss: 0.3747 - val_accuracy: 0.8319\n",
            "Epoch 2/8\n",
            "4756/4756 [==============================] - 1456s 306ms/step - loss: 0.3202 - accuracy: 0.8619 - val_loss: 0.3559 - val_accuracy: 0.8496\n",
            "Epoch 3/8\n",
            "4756/4756 [==============================] - 1447s 304ms/step - loss: 0.2479 - accuracy: 0.8953 - val_loss: 0.4655 - val_accuracy: 0.8077\n",
            "Epoch 4/8\n",
            "4756/4756 [==============================] - 1462s 307ms/step - loss: 0.2004 - accuracy: 0.9156 - val_loss: 0.4654 - val_accuracy: 0.8180\n",
            "Epoch 5/8\n",
            "4756/4756 [==============================] - 1462s 307ms/step - loss: 0.1612 - accuracy: 0.9325 - val_loss: 0.6629 - val_accuracy: 0.7964\n"
          ],
          "name": "stdout"
        }
      ]
    },
    {
      "cell_type": "markdown",
      "metadata": {
        "id": "i_uZjuDRqTIY"
      },
      "source": [
        "### Threshold Search\n",
        "brute force to find best threshold."
      ]
    },
    {
      "cell_type": "code",
      "metadata": {
        "colab": {
          "base_uri": "https://localhost:8080/"
        },
        "id": "rq_bBMbCqTYo",
        "outputId": "bc1d21a0-b47c-4b09-f9f1-6dfae10e9295"
      },
      "source": [
        "# brute force to find best threshold\n",
        "accuracies = []\n",
        "thresholds = np.arange(0, 1.01, .01)\n",
        "\n",
        "for threshold in thresholds:\n",
        "    y_pred_copy = y_pred.copy()\n",
        "    y_pred_copy[y_pred_copy >= threshold] = 1\n",
        "    y_pred_copy[y_pred_copy < threshold] = 0\n",
        "    \n",
        "    accuracies.append(accuracy_score(y_test, y_pred_copy))\n",
        "\n",
        "# best threshold\n",
        "threshold = thresholds[np.argmax(accuracies)]\n",
        "y_pred[y_pred >= threshold] = 1\n",
        "y_pred[y_pred < threshold] = 0\n",
        "\n",
        "print(f\"Best threshold: {threshold:.2f}\")"
      ],
      "execution_count": null,
      "outputs": [
        {
          "output_type": "stream",
          "text": [
            "Best threshold: 0.71\n"
          ],
          "name": "stdout"
        }
      ]
    },
    {
      "cell_type": "code",
      "metadata": {
        "colab": {
          "base_uri": "https://localhost:8080/"
        },
        "id": "igzVv5QYqTxL",
        "outputId": "0d4c3960-4e9c-4a13-839c-8c547e3cdfd2"
      },
      "source": [
        "print(classification_report(y_test, y_pred))"
      ],
      "execution_count": null,
      "outputs": [
        {
          "output_type": "stream",
          "text": [
            "              precision    recall  f1-score   support\n",
            "\n",
            "           0       0.83      0.87      0.85    533571\n",
            "           1       0.81      0.75      0.78    390037\n",
            "\n",
            "    accuracy                           0.82    923608\n",
            "   macro avg       0.82      0.81      0.81    923608\n",
            "weighted avg       0.82      0.82      0.82    923608\n",
            "\n"
          ],
          "name": "stdout"
        }
      ]
    },
    {
      "cell_type": "markdown",
      "metadata": {
        "id": "CFfLJayr3Lwr"
      },
      "source": [
        "### Quantification Analysis\n",
        "Over time Qunatification Analysis, is the classifier a good quantifier?"
      ]
    },
    {
      "cell_type": "code",
      "metadata": {
        "id": "tW9NSN6d3LPF"
      },
      "source": [
        "test[\"pred\"] = y_pred.astype(int)\n",
        "test[\"error\"] = (test[\"sentiment\"] !=  test[\"pred\"]).astype(int)\n",
        "\n",
        "error_quantity = test.groupby(\"date\")[\"error\"].sum().resample(\"D\").sum() / test.groupby(\"date\")[\"sentiment\"].count().resample(\"D\").sum()\n",
        "# error_quantity = error_quantity.fillna(0)"
      ],
      "execution_count": null,
      "outputs": []
    },
    {
      "cell_type": "code",
      "metadata": {
        "colab": {
          "base_uri": "https://localhost:8080/",
          "height": 428
        },
        "id": "oW5se3CS3Mij",
        "outputId": "f68f00c2-0a53-4588-a9fe-2aa5e8dbcfd0"
      },
      "source": [
        "error_quantity.plot(color=\"dodgerblue\", grid=True, figsize=(16, 6))\n",
        "plt.title(\"Over Time Analysis\", fontsize=14)\n",
        "plt.legend([\"Misslabel Percentage\"])\n",
        "plt.show()"
      ],
      "execution_count": null,
      "outputs": [
        {
          "output_type": "display_data",
          "data": {
            "image/png": "[encoded data removed]",
            "text/plain": [
              "<Figure size 1152x432 with 1 Axes>"
            ]
          },
          "metadata": {
            "tags": []
          }
        }
      ]
    },
    {
      "cell_type": "markdown",
      "metadata": {
        "id": "i_JfcRPZx97E"
      },
      "source": [
        "---\n",
        "## Bert based classifier\n",
        "Model based on tensorflow tutorial to fine tune a BERT-based classifier: https://www.tensorflow.org/tutorials/text/classify_text_with_bert."
      ]
    },
    {
      "cell_type": "code",
      "metadata": {
        "id": "Y3PDBYA-6pDS"
      },
      "source": [
        "X_train = np.array(train[\"tweet\"].tolist())\n",
        "y_train = np.array(train[\"sentiment\"].tolist())\n",
        "X_test = np.array(test[\"tweet\"].tolist())\n",
        "y_test = np.array(test[\"sentiment\"].tolist())\n",
        "\n",
        "# pre-trained bert-based utils\n",
        "tfhub_handle_preprocess = \"https://tfhub.dev/tensorflow/bert_en_uncased_preprocess/3\"\n",
        "tfhub_handle_encoder = (\n",
        "    \"https://tfhub.dev/tensorflow/small_bert/bert_en_uncased_L-4_H-512_A-8/1\"\n",
        ")\n",
        "\n",
        "# define model\n",
        "text_input = Input(shape=(), dtype=tf.string, name=\"text\")\n",
        "\n",
        "# pre-trained layers\n",
        "encoder_inputs = hub.KerasLayer(tfhub_handle_preprocess, trainable=False, name=\"preprocessing\")(\n",
        "    text_input\n",
        ")\n",
        "outputs = hub.KerasLayer(tfhub_handle_encoder, trainable=False, name=\"BERT_encoder\")(\n",
        "    encoder_inputs\n",
        ")\n",
        "net = outputs[\"pooled_output\"]\n",
        "\n",
        "# last custom layers\n",
        "drop = Dropout(0.25)(net)\n",
        "dense = Dense(128)(drop)\n",
        "out = Dense(1, activation=\"sigmoid\")(dense)\n",
        "\n",
        "model = Model(text_input, out)\n",
        "\n",
        "model.compile(optimizer=\"adam\", loss=\"binary_crossentropy\", metrics=[\"accuracy\"])\n",
        "\n",
        "# fit model and predict test set\n",
        "model.fit(X_train, y_train, validation_split=0.1, batch_size=32, epochs=8, # changed batch to 32 to decrease the train time (does it make sense???)\n",
        "          callbacks=[EarlyStopping(monitor=\"val_accuracy\", patience=3, restore_best_weights=True)])\n",
        "y_pred = model.predict(X_test)"
      ],
      "execution_count": null,
      "outputs": []
    },
    {
      "cell_type": "markdown",
      "metadata": {
        "id": "LlS_bZlW6t3D"
      },
      "source": [
        "### Threshold Search\n",
        "brute force to find best threshold."
      ]
    },
    {
      "cell_type": "code",
      "metadata": {
        "colab": {
          "background_save": true
        },
        "id": "E7RkJ5a460Jq",
        "outputId": "3fe8ae21-de15-481d-dee0-b37d9bfc18e6"
      },
      "source": [
        "# brute force to find best threshold\n",
        "accuracies = []\n",
        "thresholds = np.arange(0, 1.01, .01)\n",
        "\n",
        "for threshold in thresholds:\n",
        "    y_pred_copy = y_pred.copy()\n",
        "    y_pred_copy[y_pred_copy >= threshold] = 1\n",
        "    y_pred_copy[y_pred_copy < threshold] = 0\n",
        "    \n",
        "    accuracies.append(accuracy_score(y_test, y_pred_copy))\n",
        "\n",
        "# best threshold\n",
        "threshold = thresholds[np.argmax(accuracies)]\n",
        "y_pred[y_pred >= threshold] = 1\n",
        "y_pred[y_pred < threshold] = 0\n",
        "\n",
        "print(f\"Best threshold: {threshold:.2f}\")"
      ],
      "execution_count": null,
      "outputs": [
        {
          "output_type": "stream",
          "text": [
            "Best threshold: 0.68\n"
          ],
          "name": "stdout"
        }
      ]
    },
    {
      "cell_type": "code",
      "metadata": {
        "colab": {
          "background_save": true
        },
        "id": "P0mec7JH60Ll",
        "outputId": "ef7db11d-013a-4122-9c0e-5793948037d8"
      },
      "source": [
        "print(classification_report(y_test, y_pred))"
      ],
      "execution_count": null,
      "outputs": [
        {
          "output_type": "stream",
          "text": [
            "              precision    recall  f1-score   support\n",
            "\n",
            "           0       0.73      0.81      0.77    533571\n",
            "           1       0.70      0.59      0.64    390037\n",
            "\n",
            "    accuracy                           0.72    923608\n",
            "   macro avg       0.72      0.70      0.71    923608\n",
            "weighted avg       0.72      0.72      0.72    923608\n",
            "\n"
          ],
          "name": "stdout"
        }
      ]
    },
    {
      "cell_type": "markdown",
      "metadata": {
        "id": "5cQsLbPN-of-"
      },
      "source": [
        "### Quantification Analysis\n",
        "Over time Qunatification Analysis, is the classifier a good quantifier?"
      ]
    },
    {
      "cell_type": "code",
      "metadata": {
        "colab": {
          "background_save": true
        },
        "id": "HWAfu2Sh-o6c"
      },
      "source": [
        "test[\"pred\"] = y_pred.astype(int)\n",
        "test[\"error\"] = (test[\"sentiment\"] !=  test[\"pred\"]).astype(int)\n",
        "\n",
        "error_quantity = test.groupby(\"date\")[\"error\"].sum().resample(\"D\").sum() / test.groupby(\"date\")[\"sentiment\"].count().resample(\"D\").sum()\n",
        "# error_quantity = error_quantity.fillna(0)"
      ],
      "execution_count": null,
      "outputs": []
    },
    {
      "cell_type": "code",
      "metadata": {
        "colab": {
          "background_save": true
        },
        "id": "0kTThNYk-pS5",
        "outputId": "be7654dc-99a7-48de-fa1e-12a7fa56baff"
      },
      "source": [
        "error_quantity.plot(color=\"dodgerblue\", grid=True, figsize=(16, 6))\n",
        "plt.title(\"Over Time Analysis\", fontsize=14)\n",
        "plt.legend([\"Misslabel Percentage\"])\n",
        "plt.show()"
      ],
      "execution_count": null,
      "outputs": [
        {
          "output_type": "display_data",
          "data": {
            "image/png": "[encoded data removed]",
            "text/plain": [
              "<Figure size 1152x432 with 1 Axes>"
            ]
          },
          "metadata": {
            "tags": []
          }
        }
      ]
    }
  ]
}